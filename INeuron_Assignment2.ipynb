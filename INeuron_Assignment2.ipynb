{
  "nbformat": 4,
  "nbformat_minor": 0,
  "metadata": {
    "colab": {
      "name": "INeuron_Assignment2.ipynb",
      "provenance": [],
      "collapsed_sections": []
    },
    "kernelspec": {
      "name": "python3",
      "display_name": "Python 3"
    }
  },
  "cells": [
    {
      "cell_type": "markdown",
      "metadata": {
        "id": "ij2wz__q3JhU"
      },
      "source": [
        "**Write a Python program to reverse a word after accepting the input from the user.\r\n",
        "Input word: ineuron\r\n",
        "Output: norueni**"
      ]
    },
    {
      "cell_type": "code",
      "metadata": {
        "colab": {
          "base_uri": "https://localhost:8080/"
        },
        "id": "faS5cl3o3Qvm",
        "outputId": "fa122e54-a153-45e9-885c-7ee906b5597a"
      },
      "source": [
        "str = input();\r\n",
        "print(str[::-1]);"
      ],
      "execution_count": null,
      "outputs": [
        {
          "output_type": "stream",
          "text": [
            "ineuron\n",
            "norueni\n"
          ],
          "name": "stdout"
        }
      ]
    },
    {
      "cell_type": "markdown",
      "metadata": {
        "id": "MVAQJNihEWKR"
      },
      "source": [
        "**Create the below pattern using nested for loop in Python**"
      ]
    },
    {
      "cell_type": "code",
      "metadata": {
        "id": "z5XxV3YXEYoc",
        "colab": {
          "base_uri": "https://localhost:8080/"
        },
        "outputId": "20ca06d3-8f65-4d90-e7ec-42ba012ef263"
      },
      "source": [
        "limit=5;\r\n",
        "for i in range(limit):\r\n",
        "    for j in range(i):\r\n",
        "      print ('* ', end=\"\");\r\n",
        "    print('');\r\n",
        "\r\n",
        "for i in range(limit,0,-1):\r\n",
        "    for j in range(i):\r\n",
        "      print ('* ', end=\"\");\r\n",
        "    print('');"
      ],
      "execution_count": 11,
      "outputs": [
        {
          "output_type": "stream",
          "text": [
            "\n",
            "* \n",
            "* * \n",
            "* * * \n",
            "* * * * \n",
            "* * * * * \n",
            "* * * * \n",
            "* * * \n",
            "* * \n",
            "* \n"
          ],
          "name": "stdout"
        }
      ]
    },
    {
      "cell_type": "code",
      "metadata": {
        "id": "2IRd4wnKK-5J"
      },
      "source": [
        ""
      ],
      "execution_count": null,
      "outputs": []
    }
  ]
}